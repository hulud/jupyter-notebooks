{
 "cells": [
  {
   "cell_type": "code",
   "execution_count": 1,
   "metadata": {},
   "outputs": [],
   "source": [
    "from sympy import *\n",
    "init_printing()\n",
    "I,C,V,T,Q,dV,V0 = symbols('I C V T Q \\Delta{V_max} V_0')"
   ]
  },
  {
   "cell_type": "markdown",
   "metadata": {},
   "source": []
  },
  {
   "cell_type": "markdown",
   "metadata": {},
   "source": [
    "lets assume that we allow a voltage drop of 1V, and that the current is constant as the leds are shunted by resistors\n",
    "<br>\n",
    "$\\Delta V_{max} < 1V$   &    leds are shunted $\\Rightarrow$\n",
    "<br>\n",
    "$I(t) \\approx I_0 = 10A$"
   ]
  },
  {
   "cell_type": "markdown",
   "metadata": {},
   "source": [
    "The spent for 3 seconds at 10 amps is:\n",
    "<br>\n",
    "$\\Delta Q_{max} (t) = I_0\\cdot T = 3 [A] \\cdot 10 [S]= 30[Col]$"
   ]
  },
  {
   "cell_type": "markdown",
   "metadata": {},
   "source": [
    "the capacity can be calculated for a loss of $\\Delta Q$ charge loss at $\\Delta V$ voltage drop as following:\n",
    "<br>\n",
    "$Q=C\\cdot V \\Rightarrow \\Delta Q = C\\cdot \\Delta V \\Rightarrow C = \\frac{\\Delta Q}{\\Delta V}$"
   ]
  },
  {
   "cell_type": "markdown",
   "metadata": {},
   "source": [
    "$C = \\frac{\\Delta Q}{\\Delta V} = \\frac{30[C]}{1[V]} = 30 [F]$"
   ]
  }
 ],
 "metadata": {
  "kernelspec": {
   "display_name": "Python 3",
   "language": "python",
   "name": "python3"
  },
  "language_info": {
   "codemirror_mode": {
    "name": "ipython",
    "version": 3
   },
   "file_extension": ".py",
   "mimetype": "text/x-python",
   "name": "python",
   "nbconvert_exporter": "python",
   "pygments_lexer": "ipython3",
   "version": "3.6.4"
  }
 },
 "nbformat": 4,
 "nbformat_minor": 2
}
